{
 "cells": [
  {
   "cell_type": "markdown",
   "metadata": {},
   "source": [
    "# Importing and Preprocessing Dataset"
   ]
  },
  {
   "cell_type": "code",
   "execution_count": 1,
   "metadata": {},
   "outputs": [],
   "source": [
    "import pandas as pd\n",
    "import numpy as np\n",
    "import matplotlib.pyplot as plt\n",
    "import sklearn\n",
    "import seaborn as sns\n"
   ]
  },
  {
   "cell_type": "code",
   "execution_count": 60,
   "metadata": {
    "collapsed": true
   },
   "outputs": [
    {
     "data": {
      "text/html": [
       "<div>\n",
       "<style scoped>\n",
       "    .dataframe tbody tr th:only-of-type {\n",
       "        vertical-align: middle;\n",
       "    }\n",
       "\n",
       "    .dataframe tbody tr th {\n",
       "        vertical-align: top;\n",
       "    }\n",
       "\n",
       "    .dataframe thead th {\n",
       "        text-align: right;\n",
       "    }\n",
       "</style>\n",
       "<table border=\"1\" class=\"dataframe\">\n",
       "  <thead>\n",
       "    <tr style=\"text-align: right;\">\n",
       "      <th></th>\n",
       "      <th>S_N0\\t\\t\\t\\t</th>\n",
       "      <th>USER_LATITUDE</th>\n",
       "      <th>USER_LONGITUDE</th>\n",
       "      <th>USER_LOCATION</th>\n",
       "      <th>STATION NAME</th>\n",
       "      <th>OUTPUT_LATITUDE</th>\n",
       "      <th>OUTPUT_LONGITUDE</th>\n",
       "      <th>STATION_LOCATION</th>\n",
       "      <th>Distance</th>\n",
       "    </tr>\n",
       "  </thead>\n",
       "  <tbody>\n",
       "    <tr>\n",
       "      <th>0</th>\n",
       "      <td>1</td>\n",
       "      <td>19.47322</td>\n",
       "      <td>-158.188133</td>\n",
       "      <td>(19.47322, -158.188133)</td>\n",
       "      <td>Four Seasons Hotel at Manele Bay</td>\n",
       "      <td>20.742360</td>\n",
       "      <td>-156.896730</td>\n",
       "      <td>(20.74236, -156.89673)</td>\n",
       "      <td>194.8787272231647 km</td>\n",
       "    </tr>\n",
       "    <tr>\n",
       "      <th>1</th>\n",
       "      <td>2</td>\n",
       "      <td>19.47370</td>\n",
       "      <td>-155.190972</td>\n",
       "      <td>(19.4737, -155.190972)</td>\n",
       "      <td>University of Hawaii at Hilo</td>\n",
       "      <td>19.701270</td>\n",
       "      <td>-155.079250</td>\n",
       "      <td>(19.70127, -155.07925)</td>\n",
       "      <td>27.785276904292083 km</td>\n",
       "    </tr>\n",
       "    <tr>\n",
       "      <th>2</th>\n",
       "      <td>3</td>\n",
       "      <td>19.47461</td>\n",
       "      <td>-159.506507</td>\n",
       "      <td>(19.474610000000002, -159.506507)</td>\n",
       "      <td>Marriott's Ko Olina Beach Club</td>\n",
       "      <td>21.331140</td>\n",
       "      <td>-158.121542</td>\n",
       "      <td>(21.331139999999998, -158.121542)</td>\n",
       "      <td>251.27625744908588 km</td>\n",
       "    </tr>\n",
       "    <tr>\n",
       "      <th>3</th>\n",
       "      <td>4</td>\n",
       "      <td>19.47486</td>\n",
       "      <td>-158.045578</td>\n",
       "      <td>(19.47486, -158.045578)</td>\n",
       "      <td>Four Seasons Hotel at Manele Bay</td>\n",
       "      <td>20.742360</td>\n",
       "      <td>-156.896730</td>\n",
       "      <td>(20.74236, -156.89673)</td>\n",
       "      <td>184.72279122321467 km</td>\n",
       "    </tr>\n",
       "    <tr>\n",
       "      <th>4</th>\n",
       "      <td>5</td>\n",
       "      <td>19.47534</td>\n",
       "      <td>-157.727702</td>\n",
       "      <td>(19.47534, -157.727702)</td>\n",
       "      <td>Four Seasons Hotel at Manele Bay</td>\n",
       "      <td>20.742360</td>\n",
       "      <td>-156.896730</td>\n",
       "      <td>(20.74236, -156.89673)</td>\n",
       "      <td>165.00183903441874 km</td>\n",
       "    </tr>\n",
       "    <tr>\n",
       "      <th>...</th>\n",
       "      <td>...</td>\n",
       "      <td>...</td>\n",
       "      <td>...</td>\n",
       "      <td>...</td>\n",
       "      <td>...</td>\n",
       "      <td>...</td>\n",
       "      <td>...</td>\n",
       "      <td>...</td>\n",
       "      <td>...</td>\n",
       "    </tr>\n",
       "    <tr>\n",
       "      <th>1995</th>\n",
       "      <td>1996</td>\n",
       "      <td>22.11986</td>\n",
       "      <td>-157.237955</td>\n",
       "      <td>(22.11986, -157.237955)</td>\n",
       "      <td>Laie Village Center</td>\n",
       "      <td>21.646735</td>\n",
       "      <td>-157.921769</td>\n",
       "      <td>(21.6467349, -157.9217687)</td>\n",
       "      <td>87.96996347290407 km</td>\n",
       "    </tr>\n",
       "    <tr>\n",
       "      <th>1996</th>\n",
       "      <td>1997</td>\n",
       "      <td>22.12060</td>\n",
       "      <td>-157.167345</td>\n",
       "      <td>(22.1206, -157.16734499999998)</td>\n",
       "      <td>Laie Village Center</td>\n",
       "      <td>21.646735</td>\n",
       "      <td>-157.921769</td>\n",
       "      <td>(21.6467349, -157.9217687)</td>\n",
       "      <td>93.97822827664666 km</td>\n",
       "    </tr>\n",
       "    <tr>\n",
       "      <th>1997</th>\n",
       "      <td>1998</td>\n",
       "      <td>22.12087</td>\n",
       "      <td>-159.516637</td>\n",
       "      <td>(22.12087, -159.516637)</td>\n",
       "      <td>Princeville Shopping Center</td>\n",
       "      <td>22.213596</td>\n",
       "      <td>-159.474318</td>\n",
       "      <td>(22.2135956, -159.4743178)</td>\n",
       "      <td>11.156981319025856 km</td>\n",
       "    </tr>\n",
       "    <tr>\n",
       "      <th>1998</th>\n",
       "      <td>1999</td>\n",
       "      <td>22.12183</td>\n",
       "      <td>-158.802364</td>\n",
       "      <td>(22.12183, -158.80236399999998)</td>\n",
       "      <td>Lihue Airport</td>\n",
       "      <td>21.977830</td>\n",
       "      <td>-159.348750</td>\n",
       "      <td>(21.977829999999997, -159.34875)</td>\n",
       "      <td>58.611837417614474 km</td>\n",
       "    </tr>\n",
       "    <tr>\n",
       "      <th>1999</th>\n",
       "      <td>2000</td>\n",
       "      <td>22.12277</td>\n",
       "      <td>-159.013975</td>\n",
       "      <td>(22.122770000000003, -159.013975)</td>\n",
       "      <td>Lihue Airport</td>\n",
       "      <td>21.977830</td>\n",
       "      <td>-159.348750</td>\n",
       "      <td>(21.977829999999997, -159.34875)</td>\n",
       "      <td>38.102397022232374 km</td>\n",
       "    </tr>\n",
       "  </tbody>\n",
       "</table>\n",
       "<p>2000 rows × 9 columns</p>\n",
       "</div>"
      ],
      "text/plain": [
       "      S_N0\\t\\t\\t\\t  USER_LATITUDE  USER_LONGITUDE  \\\n",
       "0                1       19.47322     -158.188133   \n",
       "1                2       19.47370     -155.190972   \n",
       "2                3       19.47461     -159.506507   \n",
       "3                4       19.47486     -158.045578   \n",
       "4                5       19.47534     -157.727702   \n",
       "...            ...            ...             ...   \n",
       "1995          1996       22.11986     -157.237955   \n",
       "1996          1997       22.12060     -157.167345   \n",
       "1997          1998       22.12087     -159.516637   \n",
       "1998          1999       22.12183     -158.802364   \n",
       "1999          2000       22.12277     -159.013975   \n",
       "\n",
       "                          USER_LOCATION                      STATION NAME  \\\n",
       "0               (19.47322, -158.188133)  Four Seasons Hotel at Manele Bay   \n",
       "1                (19.4737, -155.190972)      University of Hawaii at Hilo   \n",
       "2     (19.474610000000002, -159.506507)    Marriott's Ko Olina Beach Club   \n",
       "3               (19.47486, -158.045578)  Four Seasons Hotel at Manele Bay   \n",
       "4               (19.47534, -157.727702)  Four Seasons Hotel at Manele Bay   \n",
       "...                                 ...                               ...   \n",
       "1995            (22.11986, -157.237955)               Laie Village Center   \n",
       "1996     (22.1206, -157.16734499999998)               Laie Village Center   \n",
       "1997            (22.12087, -159.516637)       Princeville Shopping Center   \n",
       "1998    (22.12183, -158.80236399999998)                     Lihue Airport   \n",
       "1999  (22.122770000000003, -159.013975)                     Lihue Airport   \n",
       "\n",
       "      OUTPUT_LATITUDE  OUTPUT_LONGITUDE                   STATION_LOCATION  \\\n",
       "0           20.742360       -156.896730             (20.74236, -156.89673)   \n",
       "1           19.701270       -155.079250             (19.70127, -155.07925)   \n",
       "2           21.331140       -158.121542  (21.331139999999998, -158.121542)   \n",
       "3           20.742360       -156.896730             (20.74236, -156.89673)   \n",
       "4           20.742360       -156.896730             (20.74236, -156.89673)   \n",
       "...               ...               ...                                ...   \n",
       "1995        21.646735       -157.921769         (21.6467349, -157.9217687)   \n",
       "1996        21.646735       -157.921769         (21.6467349, -157.9217687)   \n",
       "1997        22.213596       -159.474318         (22.2135956, -159.4743178)   \n",
       "1998        21.977830       -159.348750   (21.977829999999997, -159.34875)   \n",
       "1999        21.977830       -159.348750   (21.977829999999997, -159.34875)   \n",
       "\n",
       "                   Distance  \n",
       "0      194.8787272231647 km  \n",
       "1     27.785276904292083 km  \n",
       "2     251.27625744908588 km  \n",
       "3     184.72279122321467 km  \n",
       "4     165.00183903441874 km  \n",
       "...                     ...  \n",
       "1995   87.96996347290407 km  \n",
       "1996   93.97822827664666 km  \n",
       "1997  11.156981319025856 km  \n",
       "1998  58.611837417614474 km  \n",
       "1999  38.102397022232374 km  \n",
       "\n",
       "[2000 rows x 9 columns]"
      ]
     },
     "execution_count": 60,
     "metadata": {},
     "output_type": "execute_result"
    }
   ],
   "source": [
    "input_df = pd.read_csv('input.csv')\n",
    "input_df"
   ]
  },
  {
   "cell_type": "code",
   "execution_count": 5,
   "metadata": {},
   "outputs": [],
   "source": [
    "X = input_df.iloc[0:,1:3]"
   ]
  },
  {
   "cell_type": "code",
   "execution_count": 6,
   "metadata": {},
   "outputs": [],
   "source": [
    "y = input_df.iloc[0:,7]"
   ]
  },
  {
   "cell_type": "code",
   "execution_count": 8,
   "metadata": {},
   "outputs": [],
   "source": [
    "from sklearn.model_selection import train_test_split\n",
    "X_train, X_test, y_train, y_test = train_test_split(X, y, test_size = 0.20,random_state=0)"
   ]
  },
  {
   "cell_type": "markdown",
   "metadata": {},
   "source": [
    "# Support Vector Machine"
   ]
  },
  {
   "cell_type": "code",
   "execution_count": 9,
   "metadata": {
    "collapsed": true
   },
   "outputs": [
    {
     "data": {
      "text/plain": [
       "SVC(degree=30, kernel='poly')"
      ]
     },
     "execution_count": 9,
     "metadata": {},
     "output_type": "execute_result"
    }
   ],
   "source": [
    "from sklearn.svm import SVC\n",
    "svclassifier = SVC(kernel='poly',degree=30)\n",
    "svclassifier.fit(X_train, y_train)"
   ]
  },
  {
   "cell_type": "code",
   "execution_count": 10,
   "metadata": {},
   "outputs": [],
   "source": [
    "y_pred = svclassifier.predict(X_test)"
   ]
  },
  {
   "cell_type": "code",
   "execution_count": 11,
   "metadata": {
    "collapsed": true
   },
   "outputs": [
    {
     "name": "stdout",
     "output_type": "stream",
     "text": [
      "[[3 0 0 ... 0 0 0]\n",
      " [0 1 0 ... 0 0 0]\n",
      " [0 0 0 ... 0 0 0]\n",
      " ...\n",
      " [0 0 0 ... 0 0 0]\n",
      " [0 0 0 ... 0 4 0]\n",
      " [0 0 0 ... 0 0 1]]\n",
      "                                           precision    recall  f1-score   support\n",
      "\n",
      "(19.571679999999997, -155.96201000000002)       1.00      0.75      0.86         4\n",
      "                   (19.60924, -155.96445)       0.50      1.00      0.67         1\n",
      "                   (19.64405, -156.00273)       0.00      0.00      0.00         2\n",
      "         (19.645467, -155.99028700000002)       0.00      0.00      0.00         0\n",
      "                   (19.67427, -156.01439)       0.25      1.00      0.40         1\n",
      "                   (19.70127, -155.07925)       1.00      1.00      1.00        10\n",
      "          (19.71101, -155.07706000000002)       1.00      1.00      1.00         1\n",
      "         (19.726370000000003, -155.05767)       1.00      1.00      1.00         3\n",
      "               (19.7393796, -156.0410098)       1.00      1.00      1.00        19\n",
      "        (19.8271119, -155.99137580000001)       1.00      0.80      0.89         5\n",
      "          (19.916420000000002, -155.8822)       0.00      0.00      0.00         2\n",
      "                (19.925895, -155.8837629)       1.00      1.00      1.00         1\n",
      "        (19.994436999999998, -155.824429)       0.00      0.00      0.00         1\n",
      "                   (20.02252, -155.66733)       0.75      1.00      0.86         6\n",
      "                   (20.23055, -155.80206)       0.97      1.00      0.98        29\n",
      "         (20.680239800000003, -156.44246)       0.90      1.00      0.95         9\n",
      "               (20.7322086, -156.4524619)       0.00      0.00      0.00         0\n",
      "                   (20.74236, -156.89673)       0.98      1.00      0.99        49\n",
      "         (20.750970000000002, -156.44915)       0.00      0.00      0.00         1\n",
      "        (20.792520899999996, -156.512306)       1.00      0.50      0.67         2\n",
      "         (20.821620000000003, -156.32967)       1.00      0.50      0.67         2\n",
      "         (20.896639999999998, -156.44294)       1.00      1.00      1.00         1\n",
      "                 (20.926822, -156.695125)       0.00      0.00      0.00         0\n",
      "                    (20.9299, -156.32005)       1.00      1.00      1.00        48\n",
      "                 (20.952676, -156.685993)       0.00      0.00      0.00         1\n",
      "                   (20.97192, -156.67813)       0.75      0.75      0.75         4\n",
      "               (20.9998264, -156.6551531)       1.00      0.96      0.98        26\n",
      "         (21.270960000000002, -157.79942)       1.00      1.00      1.00         2\n",
      "       (21.271638199999998, -157.8213834)       1.00      1.00      1.00        12\n",
      "                   (21.27185, -157.77365)       1.00      1.00      1.00         1\n",
      "(21.277878100000002, -157.70561719999998)       0.92      0.92      0.92        12\n",
      "           (21.2942, -157.71053999999998)       1.00      1.00      1.00         1\n",
      "                   (21.32674, -158.08756)       1.00      1.00      1.00         4\n",
      "        (21.331139999999998, -158.121542)       1.00      1.00      1.00        65\n",
      "        (21.3413033, -157.92945580000003)       0.00      0.00      0.00         0\n",
      "                    (21.39055, -157.7397)       1.00      1.00      1.00         2\n",
      "          (21.39361, -157.74200000000002)       1.00      1.00      1.00         3\n",
      "          (21.40689, -158.17091000000002)       1.00      0.75      0.86         4\n",
      "                     (21.4356, -158.1839)       0.00      0.00      0.00         0\n",
      "                      (21.436, -157.8258)       1.00      1.00      1.00         1\n",
      "                   (21.43712, -158.18568)       1.00      1.00      1.00        11\n",
      "               (21.6467349, -157.9217687)       1.00      0.94      0.97        16\n",
      "          (21.87506, -159.45676799999998)       1.00      1.00      1.00         6\n",
      "         (21.875529999999998, -159.43973)       1.00      1.00      1.00        16\n",
      "        (21.8773842, -159.44005269999997)       0.00      0.00      0.00         1\n",
      "         (21.961399, -159.34971299999998)       0.90      1.00      0.95         9\n",
      "                   (21.96883, -159.38669)       0.00      0.00      0.00         0\n",
      "         (21.977829999999997, -159.34875)       1.00      0.80      0.89         5\n",
      "                   (21.98578, -159.36268)       1.00      1.00      1.00         1\n",
      "\n",
      "                                 accuracy                           0.95       400\n",
      "                                macro avg       0.71      0.71      0.70       400\n",
      "                             weighted avg       0.96      0.95      0.95       400\n",
      "\n"
     ]
    },
    {
     "name": "stderr",
     "output_type": "stream",
     "text": [
      "c:\\users\\chanakya\\onedrive\\documents\\ml\\env\\lib\\site-packages\\sklearn\\metrics\\_classification.py:1221: UndefinedMetricWarning: Precision and F-score are ill-defined and being set to 0.0 in labels with no predicted samples. Use `zero_division` parameter to control this behavior.\n",
      "  _warn_prf(average, modifier, msg_start, len(result))\n",
      "c:\\users\\chanakya\\onedrive\\documents\\ml\\env\\lib\\site-packages\\sklearn\\metrics\\_classification.py:1221: UndefinedMetricWarning: Recall and F-score are ill-defined and being set to 0.0 in labels with no true samples. Use `zero_division` parameter to control this behavior.\n",
      "  _warn_prf(average, modifier, msg_start, len(result))\n"
     ]
    }
   ],
   "source": [
    "from sklearn.metrics import classification_report, confusion_matrix\n",
    "con_mat = confusion_matrix(y_test,y_pred)\n",
    "class_rep = classification_report(y_test,y_pred)\n",
    "print(con_mat)\n",
    "print(class_rep)"
   ]
  },
  {
   "cell_type": "code",
   "execution_count": 28,
   "metadata": {},
   "outputs": [
    {
     "data": {
      "text/plain": [
       "0.955"
      ]
     },
     "execution_count": 28,
     "metadata": {},
     "output_type": "execute_result"
    }
   ],
   "source": [
    "svm_acc = svclassifier.score(X_test,y_test)\n",
    "svm_acc"
   ]
  },
  {
   "cell_type": "code",
   "execution_count": 13,
   "metadata": {},
   "outputs": [
    {
     "data": {
      "text/plain": [
       "<AxesSubplot:>"
      ]
     },
     "execution_count": 13,
     "metadata": {},
     "output_type": "execute_result"
    },
    {
     "data": {
      "image/png": "[encoded data removed]",
      "text/plain": [
       "<Figure size 432x288 with 2 Axes>"
      ]
     },
     "metadata": {
      "needs_background": "light"
     },
     "output_type": "display_data"
    }
   ],
   "source": [
    "sns.heatmap(confusion_matrix(y_test,y_pred), annot=True)"
   ]
  },
  {
   "cell_type": "code",
   "execution_count": 14,
   "metadata": {
    "collapsed": true
   },
   "outputs": [
    {
     "name": "stdout",
     "output_type": "stream",
     "text": [
      "                                           precision    recall  f1-score   support\n",
      "\n",
      "(19.571679999999997, -155.96201000000002)       1.00      0.75      0.86         4\n",
      "                   (19.60924, -155.96445)       0.50      1.00      0.67         1\n",
      "                   (19.64405, -156.00273)       0.00      0.00      0.00         2\n",
      "         (19.645467, -155.99028700000002)       0.00      0.00      0.00         0\n",
      "                   (19.67427, -156.01439)       0.25      1.00      0.40         1\n",
      "                   (19.70127, -155.07925)       1.00      1.00      1.00        10\n",
      "          (19.71101, -155.07706000000002)       1.00      1.00      1.00         1\n",
      "         (19.726370000000003, -155.05767)       1.00      1.00      1.00         3\n",
      "               (19.7393796, -156.0410098)       1.00      1.00      1.00        19\n",
      "        (19.8271119, -155.99137580000001)       1.00      0.80      0.89         5\n",
      "          (19.916420000000002, -155.8822)       0.00      0.00      0.00         2\n",
      "                (19.925895, -155.8837629)       1.00      1.00      1.00         1\n",
      "        (19.994436999999998, -155.824429)       0.00      0.00      0.00         1\n",
      "                   (20.02252, -155.66733)       0.75      1.00      0.86         6\n",
      "                   (20.23055, -155.80206)       0.97      1.00      0.98        29\n",
      "         (20.680239800000003, -156.44246)       0.90      1.00      0.95         9\n",
      "               (20.7322086, -156.4524619)       0.00      0.00      0.00         0\n",
      "                   (20.74236, -156.89673)       0.98      1.00      0.99        49\n",
      "         (20.750970000000002, -156.44915)       0.00      0.00      0.00         1\n",
      "        (20.792520899999996, -156.512306)       1.00      0.50      0.67         2\n",
      "         (20.821620000000003, -156.32967)       1.00      0.50      0.67         2\n",
      "         (20.896639999999998, -156.44294)       1.00      1.00      1.00         1\n",
      "                 (20.926822, -156.695125)       0.00      0.00      0.00         0\n",
      "                    (20.9299, -156.32005)       1.00      1.00      1.00        48\n",
      "                 (20.952676, -156.685993)       0.00      0.00      0.00         1\n",
      "                   (20.97192, -156.67813)       0.75      0.75      0.75         4\n",
      "               (20.9998264, -156.6551531)       1.00      0.96      0.98        26\n",
      "         (21.270960000000002, -157.79942)       1.00      1.00      1.00         2\n",
      "       (21.271638199999998, -157.8213834)       1.00      1.00      1.00        12\n",
      "                   (21.27185, -157.77365)       1.00      1.00      1.00         1\n",
      "(21.277878100000002, -157.70561719999998)       0.92      0.92      0.92        12\n",
      "           (21.2942, -157.71053999999998)       1.00      1.00      1.00         1\n",
      "                   (21.32674, -158.08756)       1.00      1.00      1.00         4\n",
      "        (21.331139999999998, -158.121542)       1.00      1.00      1.00        65\n",
      "        (21.3413033, -157.92945580000003)       0.00      0.00      0.00         0\n",
      "                    (21.39055, -157.7397)       1.00      1.00      1.00         2\n",
      "          (21.39361, -157.74200000000002)       1.00      1.00      1.00         3\n",
      "          (21.40689, -158.17091000000002)       1.00      0.75      0.86         4\n",
      "                     (21.4356, -158.1839)       0.00      0.00      0.00         0\n",
      "                      (21.436, -157.8258)       1.00      1.00      1.00         1\n",
      "                   (21.43712, -158.18568)       1.00      1.00      1.00        11\n",
      "               (21.6467349, -157.9217687)       1.00      0.94      0.97        16\n",
      "          (21.87506, -159.45676799999998)       1.00      1.00      1.00         6\n",
      "         (21.875529999999998, -159.43973)       1.00      1.00      1.00        16\n",
      "        (21.8773842, -159.44005269999997)       0.00      0.00      0.00         1\n",
      "         (21.961399, -159.34971299999998)       0.90      1.00      0.95         9\n",
      "                   (21.96883, -159.38669)       0.00      0.00      0.00         0\n",
      "         (21.977829999999997, -159.34875)       1.00      0.80      0.89         5\n",
      "                   (21.98578, -159.36268)       1.00      1.00      1.00         1\n",
      "\n",
      "                                 accuracy                           0.95       400\n",
      "                                macro avg       0.71      0.71      0.70       400\n",
      "                             weighted avg       0.96      0.95      0.95       400\n",
      "\n"
     ]
    }
   ],
   "source": [
    "print(class_rep)\n"
   ]
  },
  {
   "cell_type": "code",
   "execution_count": 15,
   "metadata": {
    "collapsed": true
   },
   "outputs": [
    {
     "data": {
      "text/plain": [
       "[<matplotlib.lines.Line2D at 0x1d518dc0>,\n",
       " <matplotlib.lines.Line2D at 0x1d518dd8>,\n",
       " <matplotlib.lines.Line2D at 0x1d518e98>,\n",
       " <matplotlib.lines.Line2D at 0x1d518ef8>,\n",
       " <matplotlib.lines.Line2D at 0x1d518f58>,\n",
       " <matplotlib.lines.Line2D at 0x1d518fb8>,\n",
       " <matplotlib.lines.Line2D at 0x1d51d040>,\n",
       " <matplotlib.lines.Line2D at 0x1d51d0a0>,\n",
       " <matplotlib.lines.Line2D at 0x1d51d100>,\n",
       " <matplotlib.lines.Line2D at 0x1d51d160>,\n",
       " <matplotlib.lines.Line2D at 0x1d515058>,\n",
       " <matplotlib.lines.Line2D at 0x1d51d208>,\n",
       " <matplotlib.lines.Line2D at 0x1d51d268>,\n",
       " <matplotlib.lines.Line2D at 0x1d51d2c8>,\n",
       " <matplotlib.lines.Line2D at 0x1d51d328>,\n",
       " <matplotlib.lines.Line2D at 0x1d51d388>,\n",
       " <matplotlib.lines.Line2D at 0x1d51d3e8>,\n",
       " <matplotlib.lines.Line2D at 0x1d51d448>,\n",
       " <matplotlib.lines.Line2D at 0x1d51d4a8>,\n",
       " <matplotlib.lines.Line2D at 0x1d51d508>,\n",
       " <matplotlib.lines.Line2D at 0x1d51d568>,\n",
       " <matplotlib.lines.Line2D at 0x1d51d5c8>,\n",
       " <matplotlib.lines.Line2D at 0x1d51d628>,\n",
       " <matplotlib.lines.Line2D at 0x1d51d688>,\n",
       " <matplotlib.lines.Line2D at 0x1d51d6e8>,\n",
       " <matplotlib.lines.Line2D at 0x1d51d748>,\n",
       " <matplotlib.lines.Line2D at 0x1d51d7a8>,\n",
       " <matplotlib.lines.Line2D at 0x1d51d808>,\n",
       " <matplotlib.lines.Line2D at 0x1d51d868>,\n",
       " <matplotlib.lines.Line2D at 0x1d51d8c8>,\n",
       " <matplotlib.lines.Line2D at 0x1d51d928>,\n",
       " <matplotlib.lines.Line2D at 0x1d51d988>,\n",
       " <matplotlib.lines.Line2D at 0x1d51d9e8>,\n",
       " <matplotlib.lines.Line2D at 0x1d51da48>,\n",
       " <matplotlib.lines.Line2D at 0x1d51daa8>,\n",
       " <matplotlib.lines.Line2D at 0x1d51db08>,\n",
       " <matplotlib.lines.Line2D at 0x1d51db68>,\n",
       " <matplotlib.lines.Line2D at 0x1d51dbc8>,\n",
       " <matplotlib.lines.Line2D at 0x1d51dc28>,\n",
       " <matplotlib.lines.Line2D at 0x1d51dc88>,\n",
       " <matplotlib.lines.Line2D at 0x1d51dce8>,\n",
       " <matplotlib.lines.Line2D at 0x1d51dd48>,\n",
       " <matplotlib.lines.Line2D at 0x1d51dda8>,\n",
       " <matplotlib.lines.Line2D at 0x1d51ddd8>,\n",
       " <matplotlib.lines.Line2D at 0x1d51de38>,\n",
       " <matplotlib.lines.Line2D at 0x1d51de98>,\n",
       " <matplotlib.lines.Line2D at 0x1d51def8>,\n",
       " <matplotlib.lines.Line2D at 0x1d51df58>,\n",
       " <matplotlib.lines.Line2D at 0x1d51dfb8>]"
      ]
     },
     "execution_count": 15,
     "metadata": {},
     "output_type": "execute_result"
    },
    {
     "data": {
      "image/png": "[encoded data removed]",
      "text/plain": [
       "<Figure size 432x288 with 1 Axes>"
      ]
     },
     "metadata": {
      "needs_background": "light"
     },
     "output_type": "display_data"
    }
   ],
   "source": [
    "plt.plot(con_mat)"
   ]
  },
  {
   "cell_type": "code",
   "execution_count": 59,
   "metadata": {
    "collapsed": true
   },
   "outputs": [
    {
     "ename": "ValueError",
     "evalue": "The number of FixedLocator locations (49), usually from a call to set_ticks, does not match the number of ticklabels (73).",
     "output_type": "error",
     "traceback": [
      "\u001b[1;31m---------------------------------------------------------------------------\u001b[0m",
      "\u001b[1;31mValueError\u001b[0m                                Traceback (most recent call last)",
      "\u001b[1;32m<ipython-input-59-54e43fa89a06>\u001b[0m in \u001b[0;36m<module>\u001b[1;34m\u001b[0m\n\u001b[0;32m      1\u001b[0m \u001b[1;32mfrom\u001b[0m \u001b[0msklearn\u001b[0m\u001b[1;33m.\u001b[0m\u001b[0mmetrics\u001b[0m \u001b[1;32mimport\u001b[0m \u001b[0mplot_confusion_matrix\u001b[0m\u001b[1;33m\u001b[0m\u001b[1;33m\u001b[0m\u001b[0m\n\u001b[1;32m----> 2\u001b[1;33m \u001b[0mplot_confusion_matrix\u001b[0m\u001b[1;33m(\u001b[0m\u001b[0msvclassifier\u001b[0m\u001b[1;33m,\u001b[0m\u001b[0mX_test\u001b[0m\u001b[1;33m,\u001b[0m\u001b[0my_test\u001b[0m\u001b[1;33m)\u001b[0m\u001b[1;33m\u001b[0m\u001b[1;33m\u001b[0m\u001b[0m\n\u001b[0m",
      "\u001b[1;32mc:\\users\\chanakya\\onedrive\\documents\\ml\\env\\lib\\site-packages\\sklearn\\utils\\validation.py\u001b[0m in \u001b[0;36minner_f\u001b[1;34m(*args, **kwargs)\u001b[0m\n\u001b[0;32m     70\u001b[0m                           FutureWarning)\n\u001b[0;32m     71\u001b[0m         \u001b[0mkwargs\u001b[0m\u001b[1;33m.\u001b[0m\u001b[0mupdate\u001b[0m\u001b[1;33m(\u001b[0m\u001b[1;33m{\u001b[0m\u001b[0mk\u001b[0m\u001b[1;33m:\u001b[0m \u001b[0marg\u001b[0m \u001b[1;32mfor\u001b[0m \u001b[0mk\u001b[0m\u001b[1;33m,\u001b[0m \u001b[0marg\u001b[0m \u001b[1;32min\u001b[0m \u001b[0mzip\u001b[0m\u001b[1;33m(\u001b[0m\u001b[0msig\u001b[0m\u001b[1;33m.\u001b[0m\u001b[0mparameters\u001b[0m\u001b[1;33m,\u001b[0m \u001b[0margs\u001b[0m\u001b[1;33m)\u001b[0m\u001b[1;33m}\u001b[0m\u001b[1;33m)\u001b[0m\u001b[1;33m\u001b[0m\u001b[1;33m\u001b[0m\u001b[0m\n\u001b[1;32m---> 72\u001b[1;33m         \u001b[1;32mreturn\u001b[0m \u001b[0mf\u001b[0m\u001b[1;33m(\u001b[0m\u001b[1;33m**\u001b[0m\u001b[0mkwargs\u001b[0m\u001b[1;33m)\u001b[0m\u001b[1;33m\u001b[0m\u001b[1;33m\u001b[0m\u001b[0m\n\u001b[0m\u001b[0;32m     73\u001b[0m     \u001b[1;32mreturn\u001b[0m \u001b[0minner_f\u001b[0m\u001b[1;33m\u001b[0m\u001b[1;33m\u001b[0m\u001b[0m\n\u001b[0;32m     74\u001b[0m \u001b[1;33m\u001b[0m\u001b[0m\n",
      "\u001b[1;32mc:\\users\\chanakya\\onedrive\\documents\\ml\\env\\lib\\site-packages\\sklearn\\metrics\\_plot\\confusion_matrix.py\u001b[0m in \u001b[0;36mplot_confusion_matrix\u001b[1;34m(estimator, X, y_true, labels, sample_weight, normalize, display_labels, include_values, xticks_rotation, values_format, cmap, ax)\u001b[0m\n\u001b[0;32m    229\u001b[0m     disp = ConfusionMatrixDisplay(confusion_matrix=cm,\n\u001b[0;32m    230\u001b[0m                                   display_labels=display_labels)\n\u001b[1;32m--> 231\u001b[1;33m     return disp.plot(include_values=include_values,\n\u001b[0m\u001b[0;32m    232\u001b[0m                      \u001b[0mcmap\u001b[0m\u001b[1;33m=\u001b[0m\u001b[0mcmap\u001b[0m\u001b[1;33m,\u001b[0m \u001b[0max\u001b[0m\u001b[1;33m=\u001b[0m\u001b[0max\u001b[0m\u001b[1;33m,\u001b[0m \u001b[0mxticks_rotation\u001b[0m\u001b[1;33m=\u001b[0m\u001b[0mxticks_rotation\u001b[0m\u001b[1;33m,\u001b[0m\u001b[1;33m\u001b[0m\u001b[1;33m\u001b[0m\u001b[0m\n\u001b[0;32m    233\u001b[0m                      values_format=values_format)\n",
      "\u001b[1;32mc:\\users\\chanakya\\onedrive\\documents\\ml\\env\\lib\\site-packages\\sklearn\\utils\\validation.py\u001b[0m in \u001b[0;36minner_f\u001b[1;34m(*args, **kwargs)\u001b[0m\n\u001b[0;32m     70\u001b[0m                           FutureWarning)\n\u001b[0;32m     71\u001b[0m         \u001b[0mkwargs\u001b[0m\u001b[1;33m.\u001b[0m\u001b[0mupdate\u001b[0m\u001b[1;33m(\u001b[0m\u001b[1;33m{\u001b[0m\u001b[0mk\u001b[0m\u001b[1;33m:\u001b[0m \u001b[0marg\u001b[0m \u001b[1;32mfor\u001b[0m \u001b[0mk\u001b[0m\u001b[1;33m,\u001b[0m \u001b[0marg\u001b[0m \u001b[1;32min\u001b[0m \u001b[0mzip\u001b[0m\u001b[1;33m(\u001b[0m\u001b[0msig\u001b[0m\u001b[1;33m.\u001b[0m\u001b[0mparameters\u001b[0m\u001b[1;33m,\u001b[0m \u001b[0margs\u001b[0m\u001b[1;33m)\u001b[0m\u001b[1;33m}\u001b[0m\u001b[1;33m)\u001b[0m\u001b[1;33m\u001b[0m\u001b[1;33m\u001b[0m\u001b[0m\n\u001b[1;32m---> 72\u001b[1;33m         \u001b[1;32mreturn\u001b[0m \u001b[0mf\u001b[0m\u001b[1;33m(\u001b[0m\u001b[1;33m**\u001b[0m\u001b[0mkwargs\u001b[0m\u001b[1;33m)\u001b[0m\u001b[1;33m\u001b[0m\u001b[1;33m\u001b[0m\u001b[0m\n\u001b[0m\u001b[0;32m     73\u001b[0m     \u001b[1;32mreturn\u001b[0m \u001b[0minner_f\u001b[0m\u001b[1;33m\u001b[0m\u001b[1;33m\u001b[0m\u001b[0m\n\u001b[0;32m     74\u001b[0m \u001b[1;33m\u001b[0m\u001b[0m\n",
      "\u001b[1;32mc:\\users\\chanakya\\onedrive\\documents\\ml\\env\\lib\\site-packages\\sklearn\\metrics\\_plot\\confusion_matrix.py\u001b[0m in \u001b[0;36mplot\u001b[1;34m(self, include_values, cmap, xticks_rotation, values_format, ax)\u001b[0m\n\u001b[0;32m    118\u001b[0m \u001b[1;33m\u001b[0m\u001b[0m\n\u001b[0;32m    119\u001b[0m         \u001b[0mfig\u001b[0m\u001b[1;33m.\u001b[0m\u001b[0mcolorbar\u001b[0m\u001b[1;33m(\u001b[0m\u001b[0mself\u001b[0m\u001b[1;33m.\u001b[0m\u001b[0mim_\u001b[0m\u001b[1;33m,\u001b[0m \u001b[0max\u001b[0m\u001b[1;33m=\u001b[0m\u001b[0max\u001b[0m\u001b[1;33m)\u001b[0m\u001b[1;33m\u001b[0m\u001b[1;33m\u001b[0m\u001b[0m\n\u001b[1;32m--> 120\u001b[1;33m         ax.set(xticks=np.arange(n_classes),\n\u001b[0m\u001b[0;32m    121\u001b[0m                \u001b[0myticks\u001b[0m\u001b[1;33m=\u001b[0m\u001b[0mnp\u001b[0m\u001b[1;33m.\u001b[0m\u001b[0marange\u001b[0m\u001b[1;33m(\u001b[0m\u001b[0mn_classes\u001b[0m\u001b[1;33m)\u001b[0m\u001b[1;33m,\u001b[0m\u001b[1;33m\u001b[0m\u001b[1;33m\u001b[0m\u001b[0m\n\u001b[0;32m    122\u001b[0m                \u001b[0mxticklabels\u001b[0m\u001b[1;33m=\u001b[0m\u001b[0mdisplay_labels\u001b[0m\u001b[1;33m,\u001b[0m\u001b[1;33m\u001b[0m\u001b[1;33m\u001b[0m\u001b[0m\n",
      "\u001b[1;32mc:\\users\\chanakya\\onedrive\\documents\\ml\\env\\lib\\site-packages\\matplotlib\\artist.py\u001b[0m in \u001b[0;36mset\u001b[1;34m(self, **kwargs)\u001b[0m\n\u001b[0;32m   1111\u001b[0m         \u001b[1;32mif\u001b[0m \u001b[0mmove_color_to_start\u001b[0m\u001b[1;33m:\u001b[0m\u001b[1;33m\u001b[0m\u001b[1;33m\u001b[0m\u001b[0m\n\u001b[0;32m   1112\u001b[0m             \u001b[0mkwargs\u001b[0m \u001b[1;33m=\u001b[0m \u001b[1;33m{\u001b[0m\u001b[1;34m\"color\"\u001b[0m\u001b[1;33m:\u001b[0m \u001b[0mkwargs\u001b[0m\u001b[1;33m.\u001b[0m\u001b[0mpop\u001b[0m\u001b[1;33m(\u001b[0m\u001b[1;34m\"color\"\u001b[0m\u001b[1;33m)\u001b[0m\u001b[1;33m,\u001b[0m \u001b[1;33m**\u001b[0m\u001b[0mkwargs\u001b[0m\u001b[1;33m}\u001b[0m\u001b[1;33m\u001b[0m\u001b[1;33m\u001b[0m\u001b[0m\n\u001b[1;32m-> 1113\u001b[1;33m         \u001b[1;32mreturn\u001b[0m \u001b[0mself\u001b[0m\u001b[1;33m.\u001b[0m\u001b[0mupdate\u001b[0m\u001b[1;33m(\u001b[0m\u001b[0mkwargs\u001b[0m\u001b[1;33m)\u001b[0m\u001b[1;33m\u001b[0m\u001b[1;33m\u001b[0m\u001b[0m\n\u001b[0m\u001b[0;32m   1114\u001b[0m \u001b[1;33m\u001b[0m\u001b[0m\n\u001b[0;32m   1115\u001b[0m     \u001b[1;32mdef\u001b[0m \u001b[0mfindobj\u001b[0m\u001b[1;33m(\u001b[0m\u001b[0mself\u001b[0m\u001b[1;33m,\u001b[0m \u001b[0mmatch\u001b[0m\u001b[1;33m=\u001b[0m\u001b[1;32mNone\u001b[0m\u001b[1;33m,\u001b[0m \u001b[0minclude_self\u001b[0m\u001b[1;33m=\u001b[0m\u001b[1;32mTrue\u001b[0m\u001b[1;33m)\u001b[0m\u001b[1;33m:\u001b[0m\u001b[1;33m\u001b[0m\u001b[1;33m\u001b[0m\u001b[0m\n",
      "\u001b[1;32mc:\\users\\chanakya\\onedrive\\documents\\ml\\env\\lib\\site-packages\\matplotlib\\artist.py\u001b[0m in \u001b[0;36mupdate\u001b[1;34m(self, props)\u001b[0m\n\u001b[0;32m    996\u001b[0m                         raise AttributeError(f\"{type(self).__name__!r} object \"\n\u001b[0;32m    997\u001b[0m                                              f\"has no property {k!r}\")\n\u001b[1;32m--> 998\u001b[1;33m                     \u001b[0mret\u001b[0m\u001b[1;33m.\u001b[0m\u001b[0mappend\u001b[0m\u001b[1;33m(\u001b[0m\u001b[0mfunc\u001b[0m\u001b[1;33m(\u001b[0m\u001b[0mv\u001b[0m\u001b[1;33m)\u001b[0m\u001b[1;33m)\u001b[0m\u001b[1;33m\u001b[0m\u001b[1;33m\u001b[0m\u001b[0m\n\u001b[0m\u001b[0;32m    999\u001b[0m         \u001b[1;32mif\u001b[0m \u001b[0mret\u001b[0m\u001b[1;33m:\u001b[0m\u001b[1;33m\u001b[0m\u001b[1;33m\u001b[0m\u001b[0m\n\u001b[0;32m   1000\u001b[0m             \u001b[0mself\u001b[0m\u001b[1;33m.\u001b[0m\u001b[0mpchanged\u001b[0m\u001b[1;33m(\u001b[0m\u001b[1;33m)\u001b[0m\u001b[1;33m\u001b[0m\u001b[1;33m\u001b[0m\u001b[0m\n",
      "\u001b[1;32mc:\\users\\chanakya\\onedrive\\documents\\ml\\env\\lib\\site-packages\\matplotlib\\axes\\_base.py\u001b[0m in \u001b[0;36mwrapper\u001b[1;34m(self, *args, **kwargs)\u001b[0m\n\u001b[0;32m     61\u001b[0m \u001b[1;33m\u001b[0m\u001b[0m\n\u001b[0;32m     62\u001b[0m         \u001b[1;32mdef\u001b[0m \u001b[0mwrapper\u001b[0m\u001b[1;33m(\u001b[0m\u001b[0mself\u001b[0m\u001b[1;33m,\u001b[0m \u001b[1;33m*\u001b[0m\u001b[0margs\u001b[0m\u001b[1;33m,\u001b[0m \u001b[1;33m**\u001b[0m\u001b[0mkwargs\u001b[0m\u001b[1;33m)\u001b[0m\u001b[1;33m:\u001b[0m\u001b[1;33m\u001b[0m\u001b[1;33m\u001b[0m\u001b[0m\n\u001b[1;32m---> 63\u001b[1;33m             \u001b[1;32mreturn\u001b[0m \u001b[0mget_method\u001b[0m\u001b[1;33m(\u001b[0m\u001b[0mself\u001b[0m\u001b[1;33m)\u001b[0m\u001b[1;33m(\u001b[0m\u001b[1;33m*\u001b[0m\u001b[0margs\u001b[0m\u001b[1;33m,\u001b[0m \u001b[1;33m**\u001b[0m\u001b[0mkwargs\u001b[0m\u001b[1;33m)\u001b[0m\u001b[1;33m\u001b[0m\u001b[1;33m\u001b[0m\u001b[0m\n\u001b[0m\u001b[0;32m     64\u001b[0m \u001b[1;33m\u001b[0m\u001b[0m\n\u001b[0;32m     65\u001b[0m         \u001b[0mwrapper\u001b[0m\u001b[1;33m.\u001b[0m\u001b[0m__module__\u001b[0m \u001b[1;33m=\u001b[0m \u001b[0mowner\u001b[0m\u001b[1;33m.\u001b[0m\u001b[0m__module__\u001b[0m\u001b[1;33m\u001b[0m\u001b[1;33m\u001b[0m\u001b[0m\n",
      "\u001b[1;32mc:\\users\\chanakya\\onedrive\\documents\\ml\\env\\lib\\site-packages\\matplotlib\\cbook\\deprecation.py\u001b[0m in \u001b[0;36mwrapper\u001b[1;34m(*args, **kwargs)\u001b[0m\n\u001b[0;32m    449\u001b[0m                 \u001b[1;34m\"parameter will become keyword-only %(removal)s.\"\u001b[0m\u001b[1;33m,\u001b[0m\u001b[1;33m\u001b[0m\u001b[1;33m\u001b[0m\u001b[0m\n\u001b[0;32m    450\u001b[0m                 name=name, obj_type=f\"parameter of {func.__name__}()\")\n\u001b[1;32m--> 451\u001b[1;33m         \u001b[1;32mreturn\u001b[0m \u001b[0mfunc\u001b[0m\u001b[1;33m(\u001b[0m\u001b[1;33m*\u001b[0m\u001b[0margs\u001b[0m\u001b[1;33m,\u001b[0m \u001b[1;33m**\u001b[0m\u001b[0mkwargs\u001b[0m\u001b[1;33m)\u001b[0m\u001b[1;33m\u001b[0m\u001b[1;33m\u001b[0m\u001b[0m\n\u001b[0m\u001b[0;32m    452\u001b[0m \u001b[1;33m\u001b[0m\u001b[0m\n\u001b[0;32m    453\u001b[0m     \u001b[1;32mreturn\u001b[0m \u001b[0mwrapper\u001b[0m\u001b[1;33m\u001b[0m\u001b[1;33m\u001b[0m\u001b[0m\n",
      "\u001b[1;32mc:\\users\\chanakya\\onedrive\\documents\\ml\\env\\lib\\site-packages\\matplotlib\\axis.py\u001b[0m in \u001b[0;36m_set_ticklabels\u001b[1;34m(self, labels, fontdict, minor, **kwargs)\u001b[0m\n\u001b[0;32m   1794\u001b[0m         \u001b[1;32mif\u001b[0m \u001b[0mfontdict\u001b[0m \u001b[1;32mis\u001b[0m \u001b[1;32mnot\u001b[0m \u001b[1;32mNone\u001b[0m\u001b[1;33m:\u001b[0m\u001b[1;33m\u001b[0m\u001b[1;33m\u001b[0m\u001b[0m\n\u001b[0;32m   1795\u001b[0m             \u001b[0mkwargs\u001b[0m\u001b[1;33m.\u001b[0m\u001b[0mupdate\u001b[0m\u001b[1;33m(\u001b[0m\u001b[0mfontdict\u001b[0m\u001b[1;33m)\u001b[0m\u001b[1;33m\u001b[0m\u001b[1;33m\u001b[0m\u001b[0m\n\u001b[1;32m-> 1796\u001b[1;33m         \u001b[1;32mreturn\u001b[0m \u001b[0mself\u001b[0m\u001b[1;33m.\u001b[0m\u001b[0mset_ticklabels\u001b[0m\u001b[1;33m(\u001b[0m\u001b[0mlabels\u001b[0m\u001b[1;33m,\u001b[0m \u001b[0mminor\u001b[0m\u001b[1;33m=\u001b[0m\u001b[0mminor\u001b[0m\u001b[1;33m,\u001b[0m \u001b[1;33m**\u001b[0m\u001b[0mkwargs\u001b[0m\u001b[1;33m)\u001b[0m\u001b[1;33m\u001b[0m\u001b[1;33m\u001b[0m\u001b[0m\n\u001b[0m\u001b[0;32m   1797\u001b[0m \u001b[1;33m\u001b[0m\u001b[0m\n\u001b[0;32m   1798\u001b[0m     \u001b[1;33m@\u001b[0m\u001b[0mcbook\u001b[0m\u001b[1;33m.\u001b[0m\u001b[0m_make_keyword_only\u001b[0m\u001b[1;33m(\u001b[0m\u001b[1;34m\"3.2\"\u001b[0m\u001b[1;33m,\u001b[0m \u001b[1;34m\"minor\"\u001b[0m\u001b[1;33m)\u001b[0m\u001b[1;33m\u001b[0m\u001b[1;33m\u001b[0m\u001b[0m\n",
      "\u001b[1;32mc:\\users\\chanakya\\onedrive\\documents\\ml\\env\\lib\\site-packages\\matplotlib\\axis.py\u001b[0m in \u001b[0;36mset_ticklabels\u001b[1;34m(self, ticklabels, minor, **kwargs)\u001b[0m\n\u001b[0;32m   1715\u001b[0m             \u001b[1;31m# remove all tick labels, so only error for > 0 ticklabels\u001b[0m\u001b[1;33m\u001b[0m\u001b[1;33m\u001b[0m\u001b[1;33m\u001b[0m\u001b[0m\n\u001b[0;32m   1716\u001b[0m             \u001b[1;32mif\u001b[0m \u001b[0mlen\u001b[0m\u001b[1;33m(\u001b[0m\u001b[0mlocator\u001b[0m\u001b[1;33m.\u001b[0m\u001b[0mlocs\u001b[0m\u001b[1;33m)\u001b[0m \u001b[1;33m!=\u001b[0m \u001b[0mlen\u001b[0m\u001b[1;33m(\u001b[0m\u001b[0mticklabels\u001b[0m\u001b[1;33m)\u001b[0m \u001b[1;32mand\u001b[0m \u001b[0mlen\u001b[0m\u001b[1;33m(\u001b[0m\u001b[0mticklabels\u001b[0m\u001b[1;33m)\u001b[0m \u001b[1;33m!=\u001b[0m \u001b[1;36m0\u001b[0m\u001b[1;33m:\u001b[0m\u001b[1;33m\u001b[0m\u001b[1;33m\u001b[0m\u001b[0m\n\u001b[1;32m-> 1717\u001b[1;33m                 raise ValueError(\n\u001b[0m\u001b[0;32m   1718\u001b[0m                     \u001b[1;34m\"The number of FixedLocator locations\"\u001b[0m\u001b[1;33m\u001b[0m\u001b[1;33m\u001b[0m\u001b[0m\n\u001b[0;32m   1719\u001b[0m                     \u001b[1;34mf\" ({len(locator.locs)}), usually from a call to\"\u001b[0m\u001b[1;33m\u001b[0m\u001b[1;33m\u001b[0m\u001b[0m\n",
      "\u001b[1;31mValueError\u001b[0m: The number of FixedLocator locations (49), usually from a call to set_ticks, does not match the number of ticklabels (73)."
     ]
    },
    {
     "data": {
      "image/png": "[encoded data removed]",
      "text/plain": [
       "<Figure size 432x288 with 2 Axes>"
      ]
     },
     "metadata": {
      "needs_background": "light"
     },
     "output_type": "display_data"
    }
   ],
   "source": [
    "from sklearn.metrics import plot_confusion_matrix\n",
    "plot_confusion_matrix(svclassifier,X_test,y_test)"
   ]
  },
  {
   "cell_type": "markdown",
   "metadata": {},
   "source": [
    "# Decision Tree"
   ]
  },
  {
   "cell_type": "code",
   "execution_count": 16,
   "metadata": {},
   "outputs": [],
   "source": [
    "# training a DescisionTreeClassifier \n",
    "from sklearn.tree import DecisionTreeClassifier \n",
    "dtree_model = DecisionTreeClassifier(max_depth = 2).fit(X_train, y_train) \n",
    "dtree_predictions = dtree_model.predict(X_test) \n"
   ]
  },
  {
   "cell_type": "code",
   "execution_count": 17,
   "metadata": {
    "collapsed": true
   },
   "outputs": [
    {
     "name": "stdout",
     "output_type": "stream",
     "text": [
      "[[0 0 0 ... 0 0 0]\n",
      " [0 0 0 ... 0 0 0]\n",
      " [0 0 0 ... 0 0 0]\n",
      " ...\n",
      " [0 0 0 ... 0 0 0]\n",
      " [0 0 0 ... 0 0 0]\n",
      " [0 0 0 ... 0 0 0]]\n",
      "                                           precision    recall  f1-score   support\n",
      "\n",
      "(19.571679999999997, -155.96201000000002)       0.00      0.00      0.00         4\n",
      "                   (19.60924, -155.96445)       0.00      0.00      0.00         1\n",
      "                   (19.64405, -156.00273)       0.00      0.00      0.00         2\n",
      "                   (19.67427, -156.01439)       0.00      0.00      0.00         1\n",
      "                   (19.70127, -155.07925)       0.00      0.00      0.00        10\n",
      "          (19.71101, -155.07706000000002)       0.00      0.00      0.00         1\n",
      "         (19.726370000000003, -155.05767)       0.00      0.00      0.00         3\n",
      "               (19.7393796, -156.0410098)       0.00      0.00      0.00        19\n",
      "        (19.8271119, -155.99137580000001)       0.00      0.00      0.00         5\n",
      "          (19.916420000000002, -155.8822)       0.00      0.00      0.00         2\n",
      "                (19.925895, -155.8837629)       0.00      0.00      0.00         1\n",
      "        (19.994436999999998, -155.824429)       0.00      0.00      0.00         1\n",
      "                   (20.02252, -155.66733)       0.00      0.00      0.00         6\n",
      "                   (20.23055, -155.80206)       0.00      0.00      0.00        29\n",
      "         (20.680239800000003, -156.44246)       0.00      0.00      0.00         9\n",
      "                   (20.74236, -156.89673)       0.30      0.96      0.46        49\n",
      "         (20.750970000000002, -156.44915)       0.00      0.00      0.00         1\n",
      "        (20.792520899999996, -156.512306)       0.00      0.00      0.00         2\n",
      "         (20.821620000000003, -156.32967)       0.00      0.00      0.00         2\n",
      "         (20.896639999999998, -156.44294)       0.00      0.00      0.00         1\n",
      "                    (20.9299, -156.32005)       0.39      0.98      0.56        48\n",
      "                 (20.952676, -156.685993)       0.00      0.00      0.00         1\n",
      "                   (20.97192, -156.67813)       0.00      0.00      0.00         4\n",
      "               (20.9998264, -156.6551531)       0.00      0.00      0.00        26\n",
      "         (21.270960000000002, -157.79942)       0.00      0.00      0.00         2\n",
      "       (21.271638199999998, -157.8213834)       0.00      0.00      0.00        12\n",
      "                   (21.27185, -157.77365)       0.00      0.00      0.00         1\n",
      "(21.277878100000002, -157.70561719999998)       0.00      0.00      0.00        12\n",
      "           (21.2942, -157.71053999999998)       0.00      0.00      0.00         1\n",
      "                   (21.32674, -158.08756)       0.00      0.00      0.00         4\n",
      "        (21.331139999999998, -158.121542)       0.85      0.98      0.91        65\n",
      "                    (21.39055, -157.7397)       0.00      0.00      0.00         2\n",
      "          (21.39361, -157.74200000000002)       0.00      0.00      0.00         3\n",
      "          (21.40689, -158.17091000000002)       0.00      0.00      0.00         4\n",
      "                      (21.436, -157.8258)       0.00      0.00      0.00         1\n",
      "                   (21.43712, -158.18568)       0.22      1.00      0.37        11\n",
      "               (21.6467349, -157.9217687)       0.00      0.00      0.00        16\n",
      "          (21.87506, -159.45676799999998)       0.00      0.00      0.00         6\n",
      "         (21.875529999999998, -159.43973)       0.00      0.00      0.00        16\n",
      "        (21.8773842, -159.44005269999997)       0.00      0.00      0.00         1\n",
      "         (21.961399, -159.34971299999998)       0.00      0.00      0.00         9\n",
      "         (21.977829999999997, -159.34875)       0.00      0.00      0.00         5\n",
      "                   (21.98578, -159.36268)       0.00      0.00      0.00         1\n",
      "\n",
      "                                 accuracy                           0.42       400\n",
      "                                macro avg       0.04      0.09      0.05       400\n",
      "                             weighted avg       0.23      0.42      0.28       400\n",
      "\n"
     ]
    },
    {
     "name": "stderr",
     "output_type": "stream",
     "text": [
      "c:\\users\\chanakya\\onedrive\\documents\\ml\\env\\lib\\site-packages\\sklearn\\metrics\\_classification.py:1221: UndefinedMetricWarning: Precision and F-score are ill-defined and being set to 0.0 in labels with no predicted samples. Use `zero_division` parameter to control this behavior.\n",
      "  _warn_prf(average, modifier, msg_start, len(result))\n"
     ]
    }
   ],
   "source": [
    "from sklearn.metrics import classification_report, confusion_matrix\n",
    "print(confusion_matrix(y_test, dtree_predictions) )\n",
    "print(classification_report(y_test,dtree_predictions))"
   ]
  },
  {
   "cell_type": "code",
   "execution_count": 29,
   "metadata": {},
   "outputs": [
    {
     "data": {
      "text/plain": [
       "0.4225"
      ]
     },
     "execution_count": 29,
     "metadata": {},
     "output_type": "execute_result"
    }
   ],
   "source": [
    "dtree_acc = dtree_model.score(X_test,y_test)\n",
    "dtree_acc"
   ]
  },
  {
   "cell_type": "code",
   "execution_count": 19,
   "metadata": {},
   "outputs": [
    {
     "data": {
      "text/plain": [
       "<AxesSubplot:>"
      ]
     },
     "execution_count": 19,
     "metadata": {},
     "output_type": "execute_result"
    },
    {
     "data": {
      "image/png": "[encoded data removed]",
      "text/plain": [
       "<Figure size 432x288 with 2 Axes>"
      ]
     },
     "metadata": {
      "needs_background": "light"
     },
     "output_type": "display_data"
    }
   ],
   "source": [
    "sns.heatmap(confusion_matrix(y_test, dtree_predictions), annot=True)"
   ]
  },
  {
   "cell_type": "markdown",
   "metadata": {},
   "source": [
    "# KNN Classification"
   ]
  },
  {
   "cell_type": "code",
   "execution_count": 20,
   "metadata": {},
   "outputs": [],
   "source": [
    "# training a KNN classifier \n",
    "from sklearn.neighbors import KNeighborsClassifier \n",
    "knn = KNeighborsClassifier(n_neighbors = 7).fit(X_train, y_train) \n",
    "  \n"
   ]
  },
  {
   "cell_type": "code",
   "execution_count": 21,
   "metadata": {},
   "outputs": [],
   "source": [
    "# creating a confusion matrix \n",
    "knn_predictions = knn.predict(X_test)  \n",
    "cm = confusion_matrix(y_test, knn_predictions) "
   ]
  },
  {
   "cell_type": "code",
   "execution_count": 22,
   "metadata": {},
   "outputs": [
    {
     "name": "stdout",
     "output_type": "stream",
     "text": [
      "[[2 1 0 ... 0 0 0]\n",
      " [0 1 0 ... 0 0 0]\n",
      " [0 0 0 ... 0 0 0]\n",
      " ...\n",
      " [0 0 0 ... 9 0 0]\n",
      " [0 0 0 ... 1 4 0]\n",
      " [0 0 0 ... 0 0 0]]\n",
      "                                           precision    recall  f1-score   support\n",
      "\n",
      "(19.571679999999997, -155.96201000000002)       1.00      0.50      0.67         4\n",
      "                   (19.60924, -155.96445)       0.33      1.00      0.50         1\n",
      "                   (19.64405, -156.00273)       0.00      0.00      0.00         2\n",
      "                   (19.67427, -156.01439)       0.00      0.00      0.00         1\n",
      "                   (19.70127, -155.07925)       1.00      0.90      0.95        10\n",
      "          (19.71101, -155.07706000000002)       0.00      0.00      0.00         1\n",
      "         (19.726370000000003, -155.05767)       1.00      1.00      1.00         3\n",
      "               (19.7367705, -156.0397822)       0.00      0.00      0.00         0\n",
      "               (19.7393796, -156.0410098)       0.86      1.00      0.93        19\n",
      "        (19.8271119, -155.99137580000001)       1.00      0.60      0.75         5\n",
      "          (19.916420000000002, -155.8822)       0.00      0.00      0.00         2\n",
      "                (19.925895, -155.8837629)       1.00      1.00      1.00         1\n",
      "        (19.994436999999998, -155.824429)       0.00      0.00      0.00         1\n",
      "                   (20.02252, -155.66733)       0.50      1.00      0.67         6\n",
      "                   (20.23055, -155.80206)       0.93      0.97      0.95        29\n",
      "         (20.680239800000003, -156.44246)       0.89      0.89      0.89         9\n",
      "                   (20.74236, -156.89673)       0.94      0.98      0.96        49\n",
      "         (20.750970000000002, -156.44915)       0.00      0.00      0.00         1\n",
      "        (20.792520899999996, -156.512306)       0.50      0.50      0.50         2\n",
      "         (20.821620000000003, -156.32967)       1.00      0.50      0.67         2\n",
      "                   (20.86956, -156.67145)       0.00      0.00      0.00         0\n",
      "         (20.896639999999998, -156.44294)       0.00      0.00      0.00         1\n",
      "                    (20.9299, -156.32005)       0.98      0.98      0.98        48\n",
      "                 (20.952676, -156.685993)       0.00      0.00      0.00         1\n",
      "                   (20.97192, -156.67813)       0.33      0.25      0.29         4\n",
      "               (20.9998264, -156.6551531)       1.00      0.92      0.96        26\n",
      "         (21.270960000000002, -157.79942)       1.00      0.50      0.67         2\n",
      "       (21.271638199999998, -157.8213834)       1.00      0.92      0.96        12\n",
      "                   (21.27185, -157.77365)       0.00      0.00      0.00         1\n",
      "(21.277878100000002, -157.70561719999998)       0.62      0.83      0.71        12\n",
      "           (21.2942, -157.71053999999998)       0.00      0.00      0.00         1\n",
      "                   (21.32674, -158.08756)       0.67      0.50      0.57         4\n",
      "        (21.331139999999998, -158.121542)       0.97      0.97      0.97        65\n",
      "                    (21.39055, -157.7397)       0.50      0.50      0.50         2\n",
      "          (21.39361, -157.74200000000002)       0.50      0.33      0.40         3\n",
      "          (21.40689, -158.17091000000002)       0.67      0.50      0.57         4\n",
      "                      (21.436, -157.8258)       1.00      1.00      1.00         1\n",
      "                   (21.43712, -158.18568)       0.85      1.00      0.92        11\n",
      "                     (21.5258, -158.0387)       0.00      0.00      0.00         0\n",
      "               (21.6467349, -157.9217687)       0.93      0.88      0.90        16\n",
      "          (21.87506, -159.45676799999998)       0.83      0.83      0.83         6\n",
      "         (21.875529999999998, -159.43973)       0.79      0.94      0.86        16\n",
      "        (21.8773842, -159.44005269999997)       0.00      0.00      0.00         1\n",
      "         (21.961399, -159.34971299999998)       0.90      1.00      0.95         9\n",
      "         (21.977829999999997, -159.34875)       1.00      0.80      0.89         5\n",
      "                   (21.98578, -159.36268)       0.00      0.00      0.00         1\n",
      "\n",
      "                                 accuracy                           0.88       400\n",
      "                                macro avg       0.55      0.53      0.53       400\n",
      "                             weighted avg       0.87      0.88      0.87       400\n",
      "\n"
     ]
    },
    {
     "name": "stderr",
     "output_type": "stream",
     "text": [
      "c:\\users\\chanakya\\onedrive\\documents\\ml\\env\\lib\\site-packages\\sklearn\\metrics\\_classification.py:1221: UndefinedMetricWarning: Precision and F-score are ill-defined and being set to 0.0 in labels with no predicted samples. Use `zero_division` parameter to control this behavior.\n",
      "  _warn_prf(average, modifier, msg_start, len(result))\n",
      "c:\\users\\chanakya\\onedrive\\documents\\ml\\env\\lib\\site-packages\\sklearn\\metrics\\_classification.py:1221: UndefinedMetricWarning: Recall and F-score are ill-defined and being set to 0.0 in labels with no true samples. Use `zero_division` parameter to control this behavior.\n",
      "  _warn_prf(average, modifier, msg_start, len(result))\n"
     ]
    }
   ],
   "source": [
    "from sklearn.metrics import classification_report, confusion_matrix\n",
    "print(confusion_matrix(y_test, knn_predictions) )\n",
    "print(classification_report(y_test,knn_predictions))"
   ]
  },
  {
   "cell_type": "code",
   "execution_count": 30,
   "metadata": {},
   "outputs": [
    {
     "name": "stdout",
     "output_type": "stream",
     "text": [
      "0.88\n"
     ]
    }
   ],
   "source": [
    "# accuracy on X_test \n",
    "knn_acc = knn.score(X_test, y_test) \n",
    "print (knn_acc)   "
   ]
  },
  {
   "cell_type": "code",
   "execution_count": null,
   "metadata": {},
   "outputs": [],
   "source": []
  },
  {
   "cell_type": "markdown",
   "metadata": {},
   "source": [
    "# Naive Bayes"
   ]
  },
  {
   "cell_type": "code",
   "execution_count": 24,
   "metadata": {},
   "outputs": [],
   "source": [
    "from sklearn.naive_bayes import GaussianNB \n",
    "gnb = GaussianNB().fit(X_train, y_train) \n",
    "gnb_predictions = gnb.predict(X_test) \n",
    "  "
   ]
  },
  {
   "cell_type": "code",
   "execution_count": 25,
   "metadata": {},
   "outputs": [
    {
     "name": "stdout",
     "output_type": "stream",
     "text": [
      "[[2 0 0 ... 0 0 0]\n",
      " [0 1 0 ... 0 0 0]\n",
      " [0 0 0 ... 0 0 0]\n",
      " ...\n",
      " [0 0 0 ... 0 0 0]\n",
      " [0 0 0 ... 0 4 0]\n",
      " [0 0 0 ... 0 0 0]]\n",
      "                                           precision    recall  f1-score   support\n",
      "\n",
      "(19.571679999999997, -155.96201000000002)       1.00      0.50      0.67         4\n",
      "                   (19.60924, -155.96445)       1.00      1.00      1.00         1\n",
      "                   (19.64405, -156.00273)       0.00      0.00      0.00         2\n",
      "                   (19.67427, -156.01439)       0.00      0.00      0.00         1\n",
      "                   (19.70127, -155.07925)       1.00      0.90      0.95        10\n",
      "          (19.71101, -155.07706000000002)       0.00      0.00      0.00         1\n",
      "         (19.726370000000003, -155.05767)       1.00      1.00      1.00         3\n",
      "               (19.7393796, -156.0410098)       0.74      0.74      0.74        19\n",
      "        (19.8271119, -155.99137580000001)       1.00      0.60      0.75         5\n",
      "          (19.916420000000002, -155.8822)       0.00      0.00      0.00         2\n",
      "                (19.925895, -155.8837629)       1.00      1.00      1.00         1\n",
      "        (19.994436999999998, -155.824429)       0.00      0.00      0.00         1\n",
      "                   (20.00638, -155.82445)       0.00      0.00      0.00         0\n",
      "                   (20.02252, -155.66733)       0.45      0.83      0.59         6\n",
      "                   (20.23055, -155.80206)       0.85      0.76      0.80        29\n",
      "         (20.680239800000003, -156.44246)       0.88      0.78      0.82         9\n",
      "                   (20.74236, -156.89673)       0.82      0.82      0.82        49\n",
      "         (20.750970000000002, -156.44915)       0.00      0.00      0.00         1\n",
      "        (20.792520899999996, -156.512306)       1.00      0.50      0.67         2\n",
      "         (20.821620000000003, -156.32967)       0.33      0.50      0.40         2\n",
      "         (20.896639999999998, -156.44294)       0.00      0.00      0.00         1\n",
      "                    (20.9299, -156.32005)       0.85      0.96      0.90        48\n",
      "                 (20.952676, -156.685993)       0.00      0.00      0.00         1\n",
      "                   (20.97192, -156.67813)       0.50      0.75      0.60         4\n",
      "               (20.9998264, -156.6551531)       0.96      0.85      0.90        26\n",
      "         (21.270960000000002, -157.79942)       0.50      0.50      0.50         2\n",
      "       (21.271638199999998, -157.8213834)       0.64      0.75      0.69        12\n",
      "                   (21.27185, -157.77365)       1.00      1.00      1.00         1\n",
      "(21.277878100000002, -157.70561719999998)       0.73      0.92      0.81        12\n",
      "         (21.293448, -157.86058490000002)       0.00      0.00      0.00         0\n",
      "           (21.2942, -157.71053999999998)       0.00      0.00      0.00         1\n",
      "                   (21.32674, -158.08756)       1.00      0.75      0.86         4\n",
      "        (21.331139999999998, -158.121542)       0.95      0.88      0.91        65\n",
      "                    (21.39055, -157.7397)       0.40      1.00      0.57         2\n",
      "          (21.39361, -157.74200000000002)       0.00      0.00      0.00         3\n",
      "          (21.40689, -158.17091000000002)       0.25      0.25      0.25         4\n",
      "                     (21.4356, -158.1839)       0.00      0.00      0.00         0\n",
      "                      (21.436, -157.8258)       0.50      1.00      0.67         1\n",
      "                   (21.43712, -158.18568)       0.59      0.91      0.71        11\n",
      "               (21.6467349, -157.9217687)       0.88      0.94      0.91        16\n",
      "          (21.87506, -159.45676799999998)       0.50      1.00      0.67         6\n",
      "         (21.875529999999998, -159.43973)       0.73      0.69      0.71        16\n",
      "        (21.8773842, -159.44005269999997)       0.00      0.00      0.00         1\n",
      "         (21.961399, -159.34971299999998)       1.00      0.67      0.80         9\n",
      "                   (21.96883, -159.38669)       0.00      0.00      0.00         0\n",
      "         (21.977829999999997, -159.34875)       1.00      0.80      0.89         5\n",
      "                   (21.98578, -159.36268)       0.00      0.00      0.00         1\n",
      "\n",
      "                                 accuracy                           0.80       400\n",
      "                                macro avg       0.51      0.52      0.50       400\n",
      "                             weighted avg       0.80      0.80      0.79       400\n",
      "\n"
     ]
    },
    {
     "name": "stderr",
     "output_type": "stream",
     "text": [
      "c:\\users\\chanakya\\onedrive\\documents\\ml\\env\\lib\\site-packages\\sklearn\\metrics\\_classification.py:1221: UndefinedMetricWarning: Precision and F-score are ill-defined and being set to 0.0 in labels with no predicted samples. Use `zero_division` parameter to control this behavior.\n",
      "  _warn_prf(average, modifier, msg_start, len(result))\n",
      "c:\\users\\chanakya\\onedrive\\documents\\ml\\env\\lib\\site-packages\\sklearn\\metrics\\_classification.py:1221: UndefinedMetricWarning: Recall and F-score are ill-defined and being set to 0.0 in labels with no true samples. Use `zero_division` parameter to control this behavior.\n",
      "  _warn_prf(average, modifier, msg_start, len(result))\n"
     ]
    }
   ],
   "source": [
    "from sklearn.metrics import classification_report, confusion_matrix\n",
    "print(confusion_matrix(y_test, gnb_predictions) )\n",
    "print(classification_report(y_test,gnb_predictions))"
   ]
  },
  {
   "cell_type": "code",
   "execution_count": 31,
   "metadata": {},
   "outputs": [
    {
     "name": "stdout",
     "output_type": "stream",
     "text": [
      "0.795\n"
     ]
    }
   ],
   "source": [
    "# accuracy on X_test \n",
    "naivebayes_acc = gnb.score(X_test, y_test) \n",
    "print (naivebayes_acc) \n",
    "  "
   ]
  },
  {
   "cell_type": "code",
   "execution_count": null,
   "metadata": {},
   "outputs": [],
   "source": []
  },
  {
   "cell_type": "code",
   "execution_count": null,
   "metadata": {},
   "outputs": [],
   "source": []
  },
  {
   "cell_type": "code",
   "execution_count": 27,
   "metadata": {},
   "outputs": [
    {
     "ename": "NameError",
     "evalue": "name 'cf_matrix' is not defined",
     "output_type": "error",
     "traceback": [
      "\u001b[1;31m---------------------------------------------------------------------------\u001b[0m",
      "\u001b[1;31mNameError\u001b[0m                                 Traceback (most recent call last)",
      "\u001b[1;32m<ipython-input-27-06772d7cb031>\u001b[0m in \u001b[0;36m<module>\u001b[1;34m\u001b[0m\n\u001b[0;32m      1\u001b[0m \u001b[1;32mimport\u001b[0m \u001b[0mseaborn\u001b[0m \u001b[1;32mas\u001b[0m \u001b[0msns\u001b[0m\u001b[1;33m\u001b[0m\u001b[1;33m\u001b[0m\u001b[0m\n\u001b[1;32m----> 2\u001b[1;33m \u001b[0msns\u001b[0m\u001b[1;33m.\u001b[0m\u001b[0mheatmap\u001b[0m\u001b[1;33m(\u001b[0m\u001b[0mcf_matrix\u001b[0m\u001b[1;33m,\u001b[0m \u001b[0mannot\u001b[0m\u001b[1;33m=\u001b[0m\u001b[1;32mTrue\u001b[0m\u001b[1;33m)\u001b[0m\u001b[1;33m\u001b[0m\u001b[1;33m\u001b[0m\u001b[0m\n\u001b[0m",
      "\u001b[1;31mNameError\u001b[0m: name 'cf_matrix' is not defined"
     ]
    }
   ],
   "source": [
    "import seaborn as sns\n",
    "sns.heatmap(cf_matrix, annot=True)"
   ]
  },
  {
   "cell_type": "markdown",
   "metadata": {},
   "source": [
    "# Result"
   ]
  },
  {
   "cell_type": "code",
   "execution_count": 56,
   "metadata": {},
   "outputs": [
    {
     "data": {
      "image/png": "[encoded data removed]",
      "text/plain": [
       "<Figure size 432x288 with 1 Axes>"
      ]
     },
     "metadata": {
      "needs_background": "light"
     },
     "output_type": "display_data"
    }
   ],
   "source": [
    "xpoints = ['SVM','DECISION TREE', 'KNN','NAIVE BAYES']\n",
    "ypoints = [svm_acc,dtree_acc,knn_acc,naivebayes_acc]\n",
    "ypoints = [i*100 for i in ypoints]\n",
    "plt.plot(xpoints,ypoints)\n",
    "plt.xlabel(\"Models\",size=25)\n",
    "plt.ylabel(\"Accuracies\",size = 25)\n",
    "plt.plot(ypoints, marker = '*' , color='r')\n",
    "plt.show()"
   ]
  },
  {
   "cell_type": "code",
   "execution_count": null,
   "metadata": {},
   "outputs": [],
   "source": []
  },
  {
   "cell_type": "code",
   "execution_count": null,
   "metadata": {},
   "outputs": [],
   "source": []
  },
  {
   "cell_type": "code",
   "execution_count": null,
   "metadata": {},
   "outputs": [],
   "source": []
  }
 ],
 "metadata": {
  "kernelspec": {
   "display_name": "Python 3",
   "language": "python",
   "name": "python3"
  },
  "language_info": {
   "codemirror_mode": {
    "name": "ipython",
    "version": 3
   },
   "file_extension": ".py",
   "mimetype": "text/x-python",
   "name": "python",
   "nbconvert_exporter": "python",
   "pygments_lexer": "ipython3",
   "version": "3.8.2"
  }
 },
 "nbformat": 4,
 "nbformat_minor": 4
}
